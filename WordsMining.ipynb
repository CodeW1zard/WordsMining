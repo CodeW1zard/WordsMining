{
 "cells": [
  {
   "cell_type": "code",
   "execution_count": 1,
   "metadata": {},
   "outputs": [],
   "source": [
    "import re\n",
    "import numpy as np\n",
    "import pandas as pd"
   ]
  },
  {
   "cell_type": "code",
   "execution_count": 7,
   "metadata": {},
   "outputs": [],
   "source": [
    "with open(\"data/冰与火之歌1-5.txt\", \"r\") as rf:\n",
    "    text = rf.read()"
   ]
  },
  {
   "cell_type": "code",
   "execution_count": 9,
   "metadata": {},
   "outputs": [],
   "source": [
    "s = \"第一章ssdadsdasdwqdqwdqwdqwdqwdChapter03\""
   ]
  },
  {
   "cell_type": "code",
   "execution_count": 10,
   "metadata": {},
   "outputs": [
    {
     "data": {
      "text/plain": [
       "['', 'ssdadsdasdwqdqwdqwdqwdqwd', '03']"
      ]
     },
     "execution_count": 10,
     "metadata": {},
     "output_type": "execute_result"
    }
   ],
   "source": [
    "re.split(\"第[零一二三四五六七八九十0-9]+章|Chapter\", s)"
   ]
  },
  {
   "cell_type": "code",
   "execution_count": 15,
   "metadata": {},
   "outputs": [],
   "source": [
    "line = text\n",
    "rule = re.compile(r\"[^a-zA-Z0-9\\u4e00-\\u9fa5]\")\n",
    "line = rule.sub(' ', line).lower().strip()\n",
    "line = re.sub('[\\s]+', ' ', line).strip()\n",
    "chapters = re.split(\"第[零一二三四五六七八九十0-9]+章|chapter\", line)\n",
    "sents = []\n",
    "for chapter in chapters:\n",
    "    sents.append(chapter.split(' '))"
   ]
  },
  {
   "cell_type": "code",
   "execution_count": 16,
   "metadata": {},
   "outputs": [
    {
     "data": {
      "text/plain": [
       "151"
      ]
     },
     "execution_count": 16,
     "metadata": {},
     "output_type": "execute_result"
    }
   ],
   "source": [
    "len(chapters)"
   ]
  },
  {
   "cell_type": "code",
   "execution_count": 21,
   "metadata": {},
   "outputs": [],
   "source": [
    "with open(\"data/test5.txt\", 'w', encoding='utf-8') as wf:\n",
    "    for i, chapter in enumerate(sents):\n",
    "        if i < 20:\n",
    "            for sent in chapter:\n",
    "                if len(sent) < 10:\n",
    "                    continue\n",
    "                wf.write(sent+'\\n')"
   ]
  },
  {
   "cell_type": "code",
   "execution_count": 20,
   "metadata": {},
   "outputs": [],
   "source": [
    "for i, chapter in enumerate(sents):\n",
    "    with open(\"data/book-冰火/book%d.txt\"%(i+1), 'w', encoding='utf-8') as wf:\n",
    "        for sent in chapter:\n",
    "            if len(sent) < 10:\n",
    "                continue\n",
    "            wf.write(sent+'\\n')"
   ]
  },
  {
   "cell_type": "code",
   "execution_count": null,
   "metadata": {},
   "outputs": [],
   "source": []
  }
 ],
 "metadata": {
  "kernelspec": {
   "display_name": "Python 3",
   "language": "python",
   "name": "python3"
  },
  "language_info": {
   "codemirror_mode": {
    "name": "ipython",
    "version": 3
   },
   "file_extension": ".py",
   "mimetype": "text/x-python",
   "name": "python",
   "nbconvert_exporter": "python",
   "pygments_lexer": "ipython3",
   "version": "3.6.4"
  }
 },
 "nbformat": 4,
 "nbformat_minor": 2
}
